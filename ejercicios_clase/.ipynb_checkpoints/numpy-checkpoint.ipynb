{
 "cells": [
  {
   "cell_type": "code",
   "execution_count": 1,
   "metadata": {},
   "outputs": [],
   "source": [
    "import numpy as np"
   ]
  },
  {
   "cell_type": "code",
   "execution_count": 2,
   "metadata": {},
   "outputs": [
    {
     "data": {
      "text/plain": [
       "array([[ 1,  2,  3,  4,  5,  6,  7,  8],\n",
       "       [ 9, 10, 11, 12, 13, 14, 15, 16],\n",
       "       [17, 18, 19, 20, 21, 22, 23, 24],\n",
       "       [25, 26, 27, 28, 29, 30, 31, 32],\n",
       "       [33, 34, 35, 36, 37, 38, 39, 40],\n",
       "       [41, 42, 43, 44, 45, 46, 47, 48],\n",
       "       [49, 50, 51, 52, 53, 54, 55, 56],\n",
       "       [57, 58, 59, 60, 61, 62, 63, 64]])"
      ]
     },
     "execution_count": 2,
     "metadata": {},
     "output_type": "execute_result"
    }
   ],
   "source": [
    "#ejercicio 1\n",
    "\"\"\"\n",
    "Hacer una matriz de 8 x 8 con numeros enteros consecutivos empezando en 1. Llenado por filas (1,2,3,4...).\n",
    "\"\"\"\n",
    "A=np.arange(1, 8*8+1).reshape(8,8)\n",
    "A"
   ]
  },
  {
   "cell_type": "code",
   "execution_count": 3,
   "metadata": {},
   "outputs": [],
   "source": [
    "#ejercicio 2\n",
    "\"\"\"\n",
    "i. Hacer una matriz de 8 x 8 con numeros enteros consecutivos empezando en 1. Llenado por columnas.\n",
    "\n",
    "ii. reemplazar los elementos que tengan al menos un 3 por -99.\n",
    "\"\"\"\n",
    "C=np.arange(1, 8*8+1)\n",
    "for i, el in enumerate(C):\n",
    "    if '3' in str(el):\n",
    "        C[i]=-99\n",
    "C=C.reshape(8,8).transpose()"
   ]
  },
  {
   "cell_type": "code",
   "execution_count": 6,
   "metadata": {},
   "outputs": [],
   "source": [
    "#ejercicio 3\n",
    "\"\"\"i. Reproducir la matriz B:\n",
    "\n",
    "[[0.4 0.41 0.42 0.43 0.44]\n",
    "[0.45 0.46 0.47 0.48 0.49]\n",
    "[0.5 0.51 0.52 0.53 0.54]\n",
    "[0.55 0.56 0.57 0.58 0.59]\n",
    "[0.6 0.61 0.62 0.63 0.64]\n",
    "[0.65 0.66 0.67 0.68 0.69]\n",
    "[0.7 0.71 0.72 0.73 0.74]\n",
    "[0.75 0.76 0.77 0.78 0.79]]\"\"\"\n",
    "\n",
    "B=np.arange(0.4, 0.8, 0.01).reshape(8, 5)\n",
    "\"\"\"\n",
    "ii. Unir B con el resultado del ejercicio anterior 2.ii para obtener una matriz de 8 lineas y 13 columnas\n",
    "\"\"\"\n",
    "#matriz de union de B y C\n",
    "D=np.append(B, C, axis=1)\n",
    "\"\"\"iii. Agregar una linea al final con el promedio de cada columna\"\"\"\n",
    "E=np.append(D, np.average(D, axis=0).reshape((1,13)), axis=0)\n",
    "\"\"\"iv. Agregar una columna al final con el valor maximo de cada fila\"\"\"\n",
    "F=np.append(E, np.max(E, axis=1).reshape((9,1)), axis=1)\n",
    "file=open('ejercicio3.txt', 'w')\n",
    "file.write(f'{F}')\n",
    "file.close()"
   ]
  },
  {
   "cell_type": "code",
   "execution_count": null,
   "metadata": {},
   "outputs": [],
   "source": []
  },
  {
   "cell_type": "code",
   "execution_count": null,
   "metadata": {},
   "outputs": [],
   "source": []
  }
 ],
 "metadata": {
  "kernelspec": {
   "display_name": "Python 3",
   "language": "python",
   "name": "python3"
  },
  "language_info": {
   "codemirror_mode": {
    "name": "ipython",
    "version": 3
   },
   "file_extension": ".py",
   "mimetype": "text/x-python",
   "name": "python",
   "nbconvert_exporter": "python",
   "pygments_lexer": "ipython3",
   "version": "3.7.6"
  }
 },
 "nbformat": 4,
 "nbformat_minor": 4
}
